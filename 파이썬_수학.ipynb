{
  "nbformat": 4,
  "nbformat_minor": 0,
  "metadata": {
    "colab": {
      "name": "파이썬_수학.ipynb",
      "provenance": [],
      "toc_visible": true,
      "authorship_tag": "ABX9TyNJALc9jNAKqb4/XaZWUftD",
      "include_colab_link": true
    },
    "kernelspec": {
      "name": "python3",
      "display_name": "Python 3"
    },
    "language_info": {
      "name": "python"
    }
  },
  "cells": [
    {
      "cell_type": "markdown",
      "metadata": {
        "id": "view-in-github",
        "colab_type": "text"
      },
      "source": [
        "<a href=\"https://colab.research.google.com/github/SCKIMOSU/python/blob/master/%ED%8C%8C%EC%9D%B4%EC%8D%AC_%EC%88%98%ED%95%99.ipynb\" target=\"_parent\"><img src=\"https://colab.research.google.com/assets/colab-badge.svg\" alt=\"Open In Colab\"/></a>"
      ]
    },
    {
      "cell_type": "markdown",
      "metadata": {
        "id": "gNYW2W9rBPJ3"
      },
      "source": [
        "## enumerat는 리스트 원소의 순서 (index)와 값을 동시에 호출함\n",
        "## 주로 for 문과 함께 사용"
      ]
    },
    {
      "cell_type": "code",
      "metadata": {
        "id": "F58iV6pIBSkw"
      },
      "source": [
        "fruit = ['strawberry', 'grape', 'apple', 'mango', 'orange']\n",
        "a = list(enumerate(fruit))\n"
      ],
      "execution_count": 6,
      "outputs": []
    },
    {
      "cell_type": "markdown",
      "metadata": {
        "id": "rm-sKb0EBWtu"
      },
      "source": [
        "## enumerate(fruit) # fruit 리스트를 enumerate() 취하면\n",
        "## 아래와 같이 객체가 된다\n",
        "## Out[6]: <enumerate at 0x2889d0cc700>"
      ]
    },
    {
      "cell_type": "markdown",
      "metadata": {
        "id": "5uHrTEHtBiIs"
      },
      "source": [
        "## list(enumerate(fruit)) 와 같이 enumerate 객체를 list()화 시키면\n",
        "## [(0, 'strawberry'), (1, 'grape'), (2, 'apple'), (3, 'mango'), (4, 'orange')]\n",
        "## 형태의 리스트 원소의 순서 (index)와 값을 보여준다\n",
        "\n"
      ]
    },
    {
      "cell_type": "code",
      "metadata": {
        "colab": {
          "base_uri": "https://localhost:8080/"
        },
        "id": "JnLV7UePBlbe",
        "outputId": "7f88b445-41eb-4428-d242-40456dc4731f"
      },
      "source": [
        "a = [0,1,2,3,4]\n",
        "for idx, val in enumerate(fruit):  # list a의 원소 0,1,2,3,4를 i라 하고\n",
        "    print (idx, val)  # 매번 i를 출력시켜라"
      ],
      "execution_count": 7,
      "outputs": [
        {
          "output_type": "stream",
          "text": [
            "0 strawberry\n",
            "1 grape\n",
            "2 apple\n",
            "3 mango\n",
            "4 orange\n"
          ],
          "name": "stdout"
        }
      ]
    },
    {
      "cell_type": "markdown",
      "metadata": {
        "id": "UVg2ZzBdB6YI"
      },
      "source": [
        "## 파이썬의 분수 표현 : fractions 모듈의 Fraction\n",
        "## 아래와 같이 Fraction을 불러낸다.\n",
        "## 아래 세 표현의 결과는 모두 같다."
      ]
    },
    {
      "cell_type": "code",
      "metadata": {
        "colab": {
          "base_uri": "https://localhost:8080/"
        },
        "id": "Dc1nq1y2CCaC",
        "outputId": "fddf9892-2625-48c1-b303-1b14de21d2f6"
      },
      "source": [
        "from fractions import Fraction\n",
        "print (Fraction(5/2))\n",
        "print (Fraction(2.5))\n",
        "print (Fraction(5,2))"
      ],
      "execution_count": 9,
      "outputs": [
        {
          "output_type": "stream",
          "text": [
            "5/2\n",
            "5/2\n",
            "5/2\n"
          ],
          "name": "stdout"
        }
      ]
    },
    {
      "cell_type": "markdown",
      "metadata": {
        "id": "YdcPHIfWAe6Q"
      },
      "source": [
        "## x=-1 에서 6까지 일때\n",
        "## 5x-x^2의 값을 대입하여 구하고, 그래프를 그리시오\n"
      ]
    },
    {
      "cell_type": "code",
      "metadata": {
        "colab": {
          "base_uri": "https://localhost:8080/",
          "height": 265
        },
        "id": "i5US5DsI_n4Z",
        "outputId": "c71c995a-1800-4e03-c859-5763748a6dec"
      },
      "source": [
        "import numpy as np\n",
        "import matplotlib.pyplot as plt\n",
        "x=np.arange(-2, 8)\n",
        "y=5*-x**2\n",
        "plt.plot(x,y)\n",
        "plt.grid()"
      ],
      "execution_count": 2,
      "outputs": [
        {
          "output_type": "display_data",
          "data": {
            "image/png": "[encoded data removed]",
            "text/plain": [
              "<Figure size 432x288 with 1 Axes>"
            ]
          },
          "metadata": {
            "tags": [],
            "needs_background": "light"
          }
        }
      ]
    }
  ]
}